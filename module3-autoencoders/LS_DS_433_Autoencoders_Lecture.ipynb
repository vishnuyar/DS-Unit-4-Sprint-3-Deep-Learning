{
 "cells": [
  {
   "cell_type": "markdown",
   "metadata": {},
   "source": [
    "Lambda School Data Science\n",
    "\n",
    "*Unit 4, Sprint 3, Module 3*\n",
    "\n",
    "---"
   ]
  },
  {
   "cell_type": "markdown",
   "metadata": {},
   "source": [
    "# Autoencoders\n",
    "\n",
    "> An autoencoder is a type of artificial neural network used to learn efficient data codings in an unsupervised manner.[1][2] The aim of an autoencoder is to learn a representation (encoding) for a set of data, typically for dimensionality reduction, by training the network to ignore signal “noise”. Along with the reduction side, a reconstructing side is learnt, where the autoencoder tries to generate from the reduced encoding a representation as close as possible to its original input, hence its name. "
   ]
  },
  {
   "cell_type": "markdown",
   "metadata": {},
   "source": [
    "## Learning Objectives\n",
    "*At the end of the lecture you should be to*:\n",
    "* <a href=\"#p1\">Part 1</a>: Describe the componenets of an autoencoder\n",
    "* <a href=\"#p2\">Part 2</a>: Train an autoencoder\n",
    "* <a href=\"#p3\">Part 3</a>: Apply an autoenocder to a basic information retrieval problem\n",
    "\n",
    "__Problem:__ Is it possible to automatically represent an image as a fixed-sized vector even if it isn’t labeled?\n",
    "\n",
    "__Solution:__ Use an autoencoder\n",
    "\n",
    "Why do we need to represent an image as a fixed-sized vector do you ask? \n",
    "\n",
    "* __Information Retrieval__\n",
    "    - [Reverse Image Search](https://en.wikipedia.org/wiki/Reverse_image_search)\n",
    "    - [Recommendation Systems - Content Based Filtering](https://en.wikipedia.org/wiki/Recommender_system#Content-based_filtering)\n",
    "* __Dimensionality Reduction__\n",
    "    - [Feature Extraction](https://www.kaggle.com/c/vsb-power-line-fault-detection/discussion/78285)\n",
    "    - [Manifold Learning](https://en.wikipedia.org/wiki/Nonlinear_dimensionality_reduction)\n",
    "\n",
    "We've already seen *representation learning* when we talked about word embedding modelings during our NLP week. Today we're going to achieve a similiar goal on images using *autoencoders*. An autoencoder is a neural network that is trained to attempt to copy its input to its output. Usually they are restricted in ways that allow them to copy only approximately. The model often learns useful properties of the data, because it is forced to prioritize which aspecs of the input should be copied. The properties of autoencoders have made them an important part of modern generative modeling approaches. Consider autoencoders a special case of feed-forward networks (the kind we've been studying); backpropagation and gradient descent still work. "
   ]
  },
  {
   "cell_type": "markdown",
   "metadata": {},
   "source": [
    "# Autoencoder Architecture (Learn)\n",
    "<a id=\"p1\"></a>"
   ]
  },
  {
   "cell_type": "markdown",
   "metadata": {},
   "source": [
    "## Overview\n",
    "\n",
    "The *encoder* compresses the input data and the *decoder* does the reverse to produce the uncompressed version of the data to create a reconstruction of the input as accurately as possible:\n",
    "\n",
    "<img src='https://miro.medium.com/max/1400/1*44eDEuZBEsmG_TCAKRI3Kw@2x.png' width=800/>\n",
    "\n",
    "The learning process gis described simply as minimizing a loss function: \n",
    "$ L(x, g(f(x))) $\n",
    "\n",
    "- $L$ is a loss function penalizing $g(f(x))$ for being dissimiliar from $x$ (such as mean squared error)\n",
    "- $f$ is the encoder function\n",
    "- $g$ is the decoder function"
   ]
  },
  {
   "cell_type": "markdown",
   "metadata": {},
   "source": [
    "## Follow Along\n",
    "### Extremely Simple Autoencoder"
   ]
  },
  {
   "cell_type": "code",
   "execution_count": 1,
   "metadata": {},
   "outputs": [
    {
     "name": "stderr",
     "output_type": "stream",
     "text": [
      "WARNING: Logging before flag parsing goes to stderr.\n",
      "W1113 17:58:38.533676 140629537863488 deprecation.py:506] From /home/ec2-user/anaconda3/envs/tensorflow_p36/lib/python3.6/site-packages/tensorflow/python/ops/init_ops.py:1251: calling VarianceScaling.__init__ (from tensorflow.python.ops.init_ops) with dtype is deprecated and will be removed in a future version.\n",
      "Instructions for updating:\n",
      "Call initializer instance with the dtype argument instead of passing it to the constructor\n"
     ]
    }
   ],
   "source": [
    "from tensorflow.keras.layers import Input, Dense\n",
    "from tensorflow.keras.models import Model\n",
    "#import wandb\n",
    "#from wandb.keras import WandbCallback\n",
    "\n",
    "# this is the size of our encoded representations\n",
    "encoding_dim = 32  # 32 floats -> compression of factor 24.5, assuming the input is 784 floats\n",
    "\n",
    "# this is our input placeholder\n",
    "input_img = Input(shape=(784,))\n",
    "# \"encoded\" is the encoded representation of the input\n",
    "encoded = Dense(encoding_dim,activation='sigmoid')(input_img)\n",
    "# \"decoded\" is the lossy reconstruction of the input\n",
    "decoded = Dense(784,activation='sigmoid')(encoded)\n",
    "\n",
    "# this model maps an input to its reconstruction\n",
    "autoencoder = Model(input_img,decoded)"
   ]
  },
  {
   "cell_type": "code",
   "execution_count": 2,
   "metadata": {},
   "outputs": [],
   "source": [
    "# this model maps an input to its encoded representation\n",
    "encoder = Model(input_img,encoded)"
   ]
  },
  {
   "cell_type": "code",
   "execution_count": null,
   "metadata": {},
   "outputs": [],
   "source": [
    "# create a placeholder for an encoded (32-dimensional) input\n",
    "\n",
    "# retrieve the last layer of the autoencoder model\n",
    "\n",
    "# create the decoder model\n"
   ]
  },
  {
   "cell_type": "code",
   "execution_count": 3,
   "metadata": {},
   "outputs": [
    {
     "name": "stderr",
     "output_type": "stream",
     "text": [
      "W1113 17:58:47.401119 140629537863488 deprecation.py:323] From /home/ec2-user/anaconda3/envs/tensorflow_p36/lib/python3.6/site-packages/tensorflow/python/ops/nn_impl.py:180: add_dispatch_support.<locals>.wrapper (from tensorflow.python.ops.array_ops) is deprecated and will be removed in a future version.\n",
      "Instructions for updating:\n",
      "Use tf.where in 2.0, which has the same broadcast rule as np.where\n"
     ]
    }
   ],
   "source": [
    "autoencoder.compile(optimizer='adadelta', loss='binary_crossentropy')"
   ]
  },
  {
   "cell_type": "code",
   "execution_count": 4,
   "metadata": {},
   "outputs": [],
   "source": [
    "from tensorflow.keras.datasets import mnist\n",
    "import numpy as np\n",
    "(x_train, _), (x_test, _) = mnist.load_data()"
   ]
  },
  {
   "cell_type": "code",
   "execution_count": 5,
   "metadata": {},
   "outputs": [
    {
     "name": "stdout",
     "output_type": "stream",
     "text": [
      "(60000, 784)\n",
      "(10000, 784)\n"
     ]
    }
   ],
   "source": [
    "x_train = x_train.astype('float32') / 255.\n",
    "x_test = x_test.astype('float32') / 255.\n",
    "x_train = x_train.reshape((len(x_train), np.prod(x_train.shape[1:])))\n",
    "x_test = x_test.reshape((len(x_test), np.prod(x_test.shape[1:])))\n",
    "print(x_train.shape)\n",
    "print(x_test.shape)"
   ]
  },
  {
   "cell_type": "code",
   "execution_count": 17,
   "metadata": {},
   "outputs": [
    {
     "name": "stdout",
     "output_type": "stream",
     "text": [
      "Train on 60000 samples, validate on 10000 samples\n",
      "Epoch 1/100\n",
      "60000/60000 [==============================] - 2s 34us/sample - loss: 0.6785 - val_loss: 0.6783\n",
      "Epoch 2/100\n",
      "60000/60000 [==============================] - 2s 34us/sample - loss: 0.6781 - val_loss: 0.6779\n",
      "Epoch 3/100\n",
      "60000/60000 [==============================] - 2s 33us/sample - loss: 0.6777 - val_loss: 0.6774\n",
      "Epoch 4/100\n",
      "60000/60000 [==============================] - 2s 33us/sample - loss: 0.6772 - val_loss: 0.6770\n",
      "Epoch 5/100\n",
      "60000/60000 [==============================] - 2s 33us/sample - loss: 0.6768 - val_loss: 0.6766\n",
      "Epoch 6/100\n",
      "60000/60000 [==============================] - 2s 33us/sample - loss: 0.6764 - val_loss: 0.6761\n",
      "Epoch 7/100\n",
      "60000/60000 [==============================] - 2s 33us/sample - loss: 0.6759 - val_loss: 0.6757\n",
      "Epoch 8/100\n",
      "60000/60000 [==============================] - 2s 33us/sample - loss: 0.6755 - val_loss: 0.6753\n",
      "Epoch 9/100\n",
      "60000/60000 [==============================] - 2s 34us/sample - loss: 0.6750 - val_loss: 0.6748\n",
      "Epoch 10/100\n",
      "60000/60000 [==============================] - 2s 34us/sample - loss: 0.6746 - val_loss: 0.6744\n",
      "Epoch 11/100\n",
      "60000/60000 [==============================] - 2s 34us/sample - loss: 0.6742 - val_loss: 0.6739\n",
      "Epoch 12/100\n",
      "60000/60000 [==============================] - 2s 34us/sample - loss: 0.6737 - val_loss: 0.6735\n",
      "Epoch 13/100\n",
      "60000/60000 [==============================] - 2s 34us/sample - loss: 0.6733 - val_loss: 0.6730\n",
      "Epoch 14/100\n",
      "60000/60000 [==============================] - 2s 34us/sample - loss: 0.6728 - val_loss: 0.6726\n",
      "Epoch 15/100\n",
      "60000/60000 [==============================] - 2s 34us/sample - loss: 0.6724 - val_loss: 0.6722\n",
      "Epoch 16/100\n",
      "60000/60000 [==============================] - 2s 33us/sample - loss: 0.6719 - val_loss: 0.6717\n",
      "Epoch 17/100\n",
      "60000/60000 [==============================] - 2s 34us/sample - loss: 0.6715 - val_loss: 0.6713\n",
      "Epoch 18/100\n",
      "60000/60000 [==============================] - 2s 34us/sample - loss: 0.6711 - val_loss: 0.6708\n",
      "Epoch 19/100\n",
      "60000/60000 [==============================] - 2s 34us/sample - loss: 0.6706 - val_loss: 0.6704\n",
      "Epoch 20/100\n",
      "60000/60000 [==============================] - 2s 34us/sample - loss: 0.6702 - val_loss: 0.6699\n",
      "Epoch 21/100\n",
      "60000/60000 [==============================] - 2s 35us/sample - loss: 0.6697 - val_loss: 0.6695\n",
      "Epoch 22/100\n",
      "60000/60000 [==============================] - 2s 35us/sample - loss: 0.6693 - val_loss: 0.6690\n",
      "Epoch 23/100\n",
      "60000/60000 [==============================] - 2s 35us/sample - loss: 0.6688 - val_loss: 0.6686\n",
      "Epoch 24/100\n",
      "60000/60000 [==============================] - 3s 44us/sample - loss: 0.6684 - val_loss: 0.6681\n",
      "Epoch 25/100\n",
      "60000/60000 [==============================] - 3s 43us/sample - loss: 0.6679 - val_loss: 0.6677\n",
      "Epoch 26/100\n",
      "60000/60000 [==============================] - 2s 34us/sample - loss: 0.6675 - val_loss: 0.6672\n",
      "Epoch 27/100\n",
      "60000/60000 [==============================] - 2s 34us/sample - loss: 0.6670 - val_loss: 0.6668\n",
      "Epoch 28/100\n",
      "60000/60000 [==============================] - 2s 33us/sample - loss: 0.6666 - val_loss: 0.6663\n",
      "Epoch 29/100\n",
      "60000/60000 [==============================] - 2s 33us/sample - loss: 0.6661 - val_loss: 0.6659\n",
      "Epoch 30/100\n",
      "60000/60000 [==============================] - 2s 34us/sample - loss: 0.6657 - val_loss: 0.6654\n",
      "Epoch 31/100\n",
      "60000/60000 [==============================] - 2s 34us/sample - loss: 0.6652 - val_loss: 0.6649\n",
      "Epoch 32/100\n",
      "60000/60000 [==============================] - 2s 35us/sample - loss: 0.6647 - val_loss: 0.6645\n",
      "Epoch 33/100\n",
      "60000/60000 [==============================] - 2s 34us/sample - loss: 0.6643 - val_loss: 0.6640\n",
      "Epoch 34/100\n",
      "60000/60000 [==============================] - 2s 35us/sample - loss: 0.6638 - val_loss: 0.6636\n",
      "Epoch 35/100\n",
      "60000/60000 [==============================] - 2s 34us/sample - loss: 0.6634 - val_loss: 0.6631\n",
      "Epoch 36/100\n",
      "60000/60000 [==============================] - 2s 33us/sample - loss: 0.6629 - val_loss: 0.6626\n",
      "Epoch 37/100\n",
      "60000/60000 [==============================] - 2s 35us/sample - loss: 0.6624 - val_loss: 0.6622\n",
      "Epoch 38/100\n",
      "60000/60000 [==============================] - 2s 34us/sample - loss: 0.6620 - val_loss: 0.6617\n",
      "Epoch 39/100\n",
      "60000/60000 [==============================] - 2s 34us/sample - loss: 0.6615 - val_loss: 0.6612\n",
      "Epoch 40/100\n",
      "60000/60000 [==============================] - 2s 34us/sample - loss: 0.6610 - val_loss: 0.6608\n",
      "Epoch 41/100\n",
      "60000/60000 [==============================] - 2s 34us/sample - loss: 0.6606 - val_loss: 0.6603\n",
      "Epoch 42/100\n",
      "60000/60000 [==============================] - 2s 34us/sample - loss: 0.6601 - val_loss: 0.6598\n",
      "Epoch 43/100\n",
      "60000/60000 [==============================] - 2s 34us/sample - loss: 0.6596 - val_loss: 0.6593\n",
      "Epoch 44/100\n",
      "60000/60000 [==============================] - 2s 34us/sample - loss: 0.6592 - val_loss: 0.6589\n",
      "Epoch 45/100\n",
      "60000/60000 [==============================] - 2s 33us/sample - loss: 0.6587 - val_loss: 0.6584\n",
      "Epoch 46/100\n",
      "60000/60000 [==============================] - 2s 34us/sample - loss: 0.6582 - val_loss: 0.6579\n",
      "Epoch 47/100\n",
      "60000/60000 [==============================] - 2s 34us/sample - loss: 0.6577 - val_loss: 0.6574\n",
      "Epoch 48/100\n",
      "60000/60000 [==============================] - 2s 33us/sample - loss: 0.6572 - val_loss: 0.6570\n",
      "Epoch 49/100\n",
      "60000/60000 [==============================] - 2s 34us/sample - loss: 0.6568 - val_loss: 0.6565\n",
      "Epoch 50/100\n",
      "60000/60000 [==============================] - 2s 34us/sample - loss: 0.6563 - val_loss: 0.6560\n",
      "Epoch 51/100\n",
      "60000/60000 [==============================] - 2s 34us/sample - loss: 0.6558 - val_loss: 0.6555\n",
      "Epoch 52/100\n",
      "60000/60000 [==============================] - 2s 35us/sample - loss: 0.6553 - val_loss: 0.6550\n",
      "Epoch 53/100\n",
      "60000/60000 [==============================] - 2s 34us/sample - loss: 0.6548 - val_loss: 0.6545\n",
      "Epoch 54/100\n",
      "60000/60000 [==============================] - 2s 34us/sample - loss: 0.6543 - val_loss: 0.6540\n",
      "Epoch 55/100\n",
      "60000/60000 [==============================] - 2s 34us/sample - loss: 0.6539 - val_loss: 0.6536\n",
      "Epoch 56/100\n",
      "60000/60000 [==============================] - 2s 33us/sample - loss: 0.6534 - val_loss: 0.6531\n",
      "Epoch 57/100\n",
      "60000/60000 [==============================] - 2s 34us/sample - loss: 0.6529 - val_loss: 0.6526\n",
      "Epoch 58/100\n",
      "60000/60000 [==============================] - 2s 35us/sample - loss: 0.6524 - val_loss: 0.6521\n",
      "Epoch 59/100\n",
      "60000/60000 [==============================] - 2s 33us/sample - loss: 0.6519 - val_loss: 0.6516\n",
      "Epoch 60/100\n",
      "60000/60000 [==============================] - 2s 33us/sample - loss: 0.6514 - val_loss: 0.6511\n",
      "Epoch 61/100\n",
      "60000/60000 [==============================] - 2s 34us/sample - loss: 0.6509 - val_loss: 0.6506\n",
      "Epoch 62/100\n",
      "60000/60000 [==============================] - 2s 34us/sample - loss: 0.6504 - val_loss: 0.6501\n",
      "Epoch 63/100\n",
      "60000/60000 [==============================] - 2s 34us/sample - loss: 0.6499 - val_loss: 0.6496\n",
      "Epoch 64/100\n",
      "60000/60000 [==============================] - 2s 35us/sample - loss: 0.6494 - val_loss: 0.6491\n",
      "Epoch 65/100\n",
      "60000/60000 [==============================] - 2s 34us/sample - loss: 0.6489 - val_loss: 0.6486\n",
      "Epoch 66/100\n",
      "60000/60000 [==============================] - 2s 34us/sample - loss: 0.6484 - val_loss: 0.6480\n",
      "Epoch 67/100\n",
      "60000/60000 [==============================] - 2s 35us/sample - loss: 0.6479 - val_loss: 0.6475\n",
      "Epoch 68/100\n",
      "60000/60000 [==============================] - 2s 35us/sample - loss: 0.6474 - val_loss: 0.6470\n",
      "Epoch 69/100\n",
      "60000/60000 [==============================] - 2s 35us/sample - loss: 0.6469 - val_loss: 0.6465\n",
      "Epoch 70/100\n",
      "60000/60000 [==============================] - 2s 35us/sample - loss: 0.6463 - val_loss: 0.6460\n",
      "Epoch 71/100\n",
      "60000/60000 [==============================] - 2s 34us/sample - loss: 0.6458 - val_loss: 0.6455\n",
      "Epoch 72/100\n",
      "60000/60000 [==============================] - 2s 35us/sample - loss: 0.6453 - val_loss: 0.6450\n",
      "Epoch 73/100\n",
      "60000/60000 [==============================] - 2s 35us/sample - loss: 0.6448 - val_loss: 0.6444\n",
      "Epoch 74/100\n",
      "60000/60000 [==============================] - 2s 35us/sample - loss: 0.6443 - val_loss: 0.6439\n",
      "Epoch 75/100\n",
      "60000/60000 [==============================] - 2s 35us/sample - loss: 0.6438 - val_loss: 0.6434\n",
      "Epoch 76/100\n",
      "60000/60000 [==============================] - 2s 35us/sample - loss: 0.6432 - val_loss: 0.6429\n",
      "Epoch 77/100\n",
      "60000/60000 [==============================] - 2s 35us/sample - loss: 0.6427 - val_loss: 0.6423\n",
      "Epoch 78/100\n",
      "60000/60000 [==============================] - 2s 37us/sample - loss: 0.6422 - val_loss: 0.6418\n",
      "Epoch 79/100\n",
      "60000/60000 [==============================] - 2s 34us/sample - loss: 0.6417 - val_loss: 0.6413\n",
      "Epoch 80/100\n",
      "60000/60000 [==============================] - 2s 33us/sample - loss: 0.6411 - val_loss: 0.6407\n",
      "Epoch 81/100\n",
      "60000/60000 [==============================] - 2s 34us/sample - loss: 0.6406 - val_loss: 0.6402\n",
      "Epoch 82/100\n",
      "60000/60000 [==============================] - 2s 35us/sample - loss: 0.6401 - val_loss: 0.6397\n",
      "Epoch 83/100\n",
      "60000/60000 [==============================] - 2s 34us/sample - loss: 0.6395 - val_loss: 0.6391\n",
      "Epoch 84/100\n",
      "60000/60000 [==============================] - 2s 36us/sample - loss: 0.6390 - val_loss: 0.6386\n",
      "Epoch 85/100\n",
      "60000/60000 [==============================] - 2s 34us/sample - loss: 0.6384 - val_loss: 0.6380\n",
      "Epoch 86/100\n",
      "60000/60000 [==============================] - 2s 35us/sample - loss: 0.6379 - val_loss: 0.6375\n",
      "Epoch 87/100\n",
      "60000/60000 [==============================] - 2s 35us/sample - loss: 0.6374 - val_loss: 0.6370\n",
      "Epoch 88/100\n",
      "60000/60000 [==============================] - 2s 35us/sample - loss: 0.6368 - val_loss: 0.6364\n",
      "Epoch 89/100\n",
      "60000/60000 [==============================] - 2s 35us/sample - loss: 0.6363 - val_loss: 0.6359\n",
      "Epoch 90/100\n",
      "60000/60000 [==============================] - 2s 35us/sample - loss: 0.6357 - val_loss: 0.6353\n",
      "Epoch 91/100\n",
      "60000/60000 [==============================] - 2s 34us/sample - loss: 0.6352 - val_loss: 0.6348\n",
      "Epoch 92/100\n",
      "60000/60000 [==============================] - 2s 34us/sample - loss: 0.6346 - val_loss: 0.6342\n",
      "Epoch 93/100\n",
      "60000/60000 [==============================] - 2s 35us/sample - loss: 0.6341 - val_loss: 0.6336\n",
      "Epoch 94/100\n",
      "60000/60000 [==============================] - 2s 35us/sample - loss: 0.6335 - val_loss: 0.6331\n",
      "Epoch 95/100\n",
      "60000/60000 [==============================] - 2s 35us/sample - loss: 0.6330 - val_loss: 0.6325\n",
      "Epoch 96/100\n",
      "60000/60000 [==============================] - 2s 35us/sample - loss: 0.6324 - val_loss: 0.6320\n",
      "Epoch 97/100\n",
      "60000/60000 [==============================] - 2s 35us/sample - loss: 0.6318 - val_loss: 0.6314\n",
      "Epoch 98/100\n",
      "60000/60000 [==============================] - 2s 36us/sample - loss: 0.6313 - val_loss: 0.6308\n",
      "Epoch 99/100\n",
      "60000/60000 [==============================] - 2s 36us/sample - loss: 0.6307 - val_loss: 0.6303\n",
      "Epoch 100/100\n",
      "60000/60000 [==============================] - 2s 35us/sample - loss: 0.6301 - val_loss: 0.6297\n"
     ]
    },
    {
     "data": {
      "text/plain": [
       "<tensorflow.python.keras.callbacks.History at 0x7fe68005ab38>"
      ]
     },
     "execution_count": 17,
     "metadata": {},
     "output_type": "execute_result"
    }
   ],
   "source": [
    "#wandb.init(project=\"mnist_autoencoder\", entity=\"ds5\")\n",
    "\n",
    "autoencoder.fit(x_train, x_train,\n",
    "                epochs=100,\n",
    "                batch_size=256,\n",
    "                shuffle=True,\n",
    "                validation_data=(x_test,x_test),\n",
    "                verbose = 1\n",
    "                #callbacks=...\n",
    "               )"
   ]
  },
  {
   "cell_type": "code",
   "execution_count": 19,
   "metadata": {},
   "outputs": [],
   "source": [
    "# encode and decode some digits\n",
    "# note that we take them from the *test* set\n",
    "decoded_imgs = autoencoder.predict(x_test[:10])"
   ]
  },
  {
   "cell_type": "code",
   "execution_count": 20,
   "metadata": {},
   "outputs": [
    {
     "data": {
      "image/png": "[encoded data removed]",
      "text/plain": [
       "<Figure size 1440x288 with 20 Axes>"
      ]
     },
     "metadata": {},
     "output_type": "display_data"
    }
   ],
   "source": [
    "# use Matplotlib (don't ask)\n",
    "import matplotlib.pyplot as plt\n",
    "\n",
    "n = 10  # how many digits we will display\n",
    "plt.figure(figsize=(20, 4))\n",
    "for i in range(n):\n",
    "    # display original\n",
    "    ax = plt.subplot(2, n, i + 1)\n",
    "    plt.imshow(x_test[i].reshape(28, 28))\n",
    "    plt.gray()\n",
    "    ax.get_xaxis().set_visible(False)\n",
    "    ax.get_yaxis().set_visible(False)\n",
    "\n",
    "    # display reconstruction\n",
    "    ax = plt.subplot(2, n, i + 1 + n)\n",
    "    plt.imshow(decoded_imgs[i].reshape(28, 28))\n",
    "    plt.gray()\n",
    "    ax.get_xaxis().set_visible(False)\n",
    "    ax.get_yaxis().set_visible(False)\n",
    "plt.show()"
   ]
  },
  {
   "cell_type": "markdown",
   "metadata": {},
   "source": [
    "## Challenge\n",
    "\n",
    "Expected to talk about the components of autoencoder and their purpose. "
   ]
  },
  {
   "cell_type": "markdown",
   "metadata": {},
   "source": [
    "# Train an Autoencoder (Learn)\n",
    "<a id=\"p2\"></a>"
   ]
  },
  {
   "cell_type": "markdown",
   "metadata": {},
   "source": [
    "## Overview\n",
    "\n",
    "As long as our architecture maintains an hourglass shape, we can continue to add layers and create a deeper network. "
   ]
  },
  {
   "cell_type": "markdown",
   "metadata": {
    "toc-hr-collapsed": true
   },
   "source": [
    "## Follow Along"
   ]
  },
  {
   "cell_type": "markdown",
   "metadata": {},
   "source": [
    "### Deep Autoencoder"
   ]
  },
  {
   "cell_type": "code",
   "execution_count": 18,
   "metadata": {},
   "outputs": [],
   "source": [
    "input_img = Input(shape=(784,))\n",
    "encod_1 = Dense(392,activation='relu')(input_img)\n",
    "encod_2 = Dense(196,activation='relu')(encod_1)\n",
    "encod_3 = Dense(98,activation='relu')(encod_2)\n",
    "encod_4 = Dense(49,activation='relu')(encod_3)\n",
    "encoder = Dense(32,activation='relu')(encod_4)\n",
    "dencod_4 = Dense(49,activation='relu')(encoder)\n",
    "dencod_3 = Dense(98,activation='relu')(dencod_4)\n",
    "dencod_2 = Dense(196,activation='relu')(dencod_3)\n",
    "dencod_1 = Dense(392,activation='relu')(dencod_2)\n",
    "# \"decoded\" is the lossy reconstruction of the input\n",
    "decoder = Dense(784,activation='sigmoid')(dencod_1)"
   ]
  },
  {
   "cell_type": "code",
   "execution_count": 25,
   "metadata": {},
   "outputs": [],
   "source": [
    "# compile & fit model\n",
    "autoencoder_ver1 = Model(input_img,decoder)\n",
    "autoencoder_ver1.compile(loss='binary_crossentropy',optimizer='adam')"
   ]
  },
  {
   "cell_type": "code",
   "execution_count": 26,
   "metadata": {},
   "outputs": [
    {
     "name": "stdout",
     "output_type": "stream",
     "text": [
      "Train on 60000 samples, validate on 10000 samples\n",
      "Epoch 1/100\n",
      "60000/60000 [==============================] - 7s 112us/sample - loss: 0.2488 - val_loss: 0.1786\n",
      "Epoch 2/100\n",
      "60000/60000 [==============================] - 6s 93us/sample - loss: 0.1591 - val_loss: 0.1446\n",
      "Epoch 3/100\n",
      "60000/60000 [==============================] - 6s 94us/sample - loss: 0.1395 - val_loss: 0.1325\n",
      "Epoch 4/100\n",
      "60000/60000 [==============================] - 6s 94us/sample - loss: 0.1283 - val_loss: 0.1237\n",
      "Epoch 5/100\n",
      "60000/60000 [==============================] - 6s 93us/sample - loss: 0.1206 - val_loss: 0.1175\n",
      "Epoch 6/100\n",
      "60000/60000 [==============================] - 6s 93us/sample - loss: 0.1158 - val_loss: 0.1131\n",
      "Epoch 7/100\n",
      "60000/60000 [==============================] - 6s 94us/sample - loss: 0.1118 - val_loss: 0.1103\n",
      "Epoch 8/100\n",
      "60000/60000 [==============================] - 6s 93us/sample - loss: 0.1084 - val_loss: 0.1068\n",
      "Epoch 9/100\n",
      "60000/60000 [==============================] - 6s 94us/sample - loss: 0.1057 - val_loss: 0.1048\n",
      "Epoch 10/100\n",
      "60000/60000 [==============================] - 6s 95us/sample - loss: 0.1037 - val_loss: 0.1029\n",
      "Epoch 11/100\n",
      "60000/60000 [==============================] - 6s 95us/sample - loss: 0.1021 - val_loss: 0.1016\n",
      "Epoch 12/100\n",
      "60000/60000 [==============================] - 6s 97us/sample - loss: 0.1005 - val_loss: 0.1015\n",
      "Epoch 13/100\n",
      "60000/60000 [==============================] - 6s 97us/sample - loss: 0.0992 - val_loss: 0.0993\n",
      "Epoch 14/100\n",
      "60000/60000 [==============================] - 6s 97us/sample - loss: 0.0980 - val_loss: 0.0980\n",
      "Epoch 15/100\n",
      "60000/60000 [==============================] - 6s 100us/sample - loss: 0.0968 - val_loss: 0.0967\n",
      "Epoch 16/100\n",
      "60000/60000 [==============================] - 6s 101us/sample - loss: 0.0959 - val_loss: 0.0962\n",
      "Epoch 17/100\n",
      "60000/60000 [==============================] - 6s 99us/sample - loss: 0.0951 - val_loss: 0.0947\n",
      "Epoch 18/100\n",
      "60000/60000 [==============================] - 6s 95us/sample - loss: 0.0942 - val_loss: 0.0939\n",
      "Epoch 19/100\n",
      "60000/60000 [==============================] - 6s 94us/sample - loss: 0.0934 - val_loss: 0.0939\n",
      "Epoch 20/100\n",
      "60000/60000 [==============================] - 6s 95us/sample - loss: 0.0927 - val_loss: 0.0933\n",
      "Epoch 21/100\n",
      "60000/60000 [==============================] - 6s 93us/sample - loss: 0.0920 - val_loss: 0.0935\n",
      "Epoch 22/100\n",
      "60000/60000 [==============================] - 6s 96us/sample - loss: 0.0914 - val_loss: 0.0925\n",
      "Epoch 23/100\n",
      "60000/60000 [==============================] - 6s 93us/sample - loss: 0.0909 - val_loss: 0.0909\n",
      "Epoch 24/100\n",
      "60000/60000 [==============================] - 6s 95us/sample - loss: 0.0902 - val_loss: 0.0906\n",
      "Epoch 25/100\n",
      "60000/60000 [==============================] - 6s 96us/sample - loss: 0.0897 - val_loss: 0.0902\n",
      "Epoch 26/100\n",
      "60000/60000 [==============================] - 7s 111us/sample - loss: 0.0894 - val_loss: 0.0896\n",
      "Epoch 27/100\n",
      "60000/60000 [==============================] - 6s 107us/sample - loss: 0.0889 - val_loss: 0.0895\n",
      "Epoch 28/100\n",
      "60000/60000 [==============================] - 6s 93us/sample - loss: 0.0885 - val_loss: 0.0896\n",
      "Epoch 29/100\n",
      "60000/60000 [==============================] - 6s 94us/sample - loss: 0.0883 - val_loss: 0.0896\n",
      "Epoch 30/100\n",
      "60000/60000 [==============================] - 6s 93us/sample - loss: 0.0879 - val_loss: 0.0892\n",
      "Epoch 31/100\n",
      "60000/60000 [==============================] - 6s 94us/sample - loss: 0.0876 - val_loss: 0.0888\n",
      "Epoch 32/100\n",
      "60000/60000 [==============================] - 6s 93us/sample - loss: 0.0874 - val_loss: 0.0891\n",
      "Epoch 33/100\n",
      "60000/60000 [==============================] - 6s 93us/sample - loss: 0.0871 - val_loss: 0.0880\n",
      "Epoch 34/100\n",
      "60000/60000 [==============================] - 6s 94us/sample - loss: 0.0868 - val_loss: 0.0881\n",
      "Epoch 35/100\n",
      "60000/60000 [==============================] - 6s 96us/sample - loss: 0.0865 - val_loss: 0.0879\n",
      "Epoch 36/100\n",
      "60000/60000 [==============================] - 6s 97us/sample - loss: 0.0863 - val_loss: 0.0889\n",
      "Epoch 37/100\n",
      "60000/60000 [==============================] - 6s 96us/sample - loss: 0.0862 - val_loss: 0.0869\n",
      "Epoch 38/100\n",
      "60000/60000 [==============================] - 6s 95us/sample - loss: 0.0858 - val_loss: 0.0873\n",
      "Epoch 39/100\n",
      "60000/60000 [==============================] - 6s 95us/sample - loss: 0.0856 - val_loss: 0.0868\n",
      "Epoch 40/100\n",
      "60000/60000 [==============================] - 6s 96us/sample - loss: 0.0853 - val_loss: 0.0869\n",
      "Epoch 41/100\n",
      "60000/60000 [==============================] - 6s 94us/sample - loss: 0.0851 - val_loss: 0.0865\n",
      "Epoch 42/100\n",
      "60000/60000 [==============================] - 6s 97us/sample - loss: 0.0849 - val_loss: 0.0869\n",
      "Epoch 43/100\n",
      "60000/60000 [==============================] - 6s 97us/sample - loss: 0.0847 - val_loss: 0.0858\n",
      "Epoch 44/100\n",
      "60000/60000 [==============================] - 6s 96us/sample - loss: 0.0845 - val_loss: 0.0868\n",
      "Epoch 45/100\n",
      "60000/60000 [==============================] - 6s 93us/sample - loss: 0.0843 - val_loss: 0.0857\n",
      "Epoch 46/100\n",
      "60000/60000 [==============================] - 6s 94us/sample - loss: 0.0841 - val_loss: 0.0858\n",
      "Epoch 47/100\n",
      "60000/60000 [==============================] - 6s 95us/sample - loss: 0.0839 - val_loss: 0.0858\n",
      "Epoch 48/100\n",
      "60000/60000 [==============================] - 6s 95us/sample - loss: 0.0837 - val_loss: 0.0851\n",
      "Epoch 49/100\n",
      "60000/60000 [==============================] - 6s 95us/sample - loss: 0.0835 - val_loss: 0.0849\n",
      "Epoch 50/100\n",
      "60000/60000 [==============================] - 6s 93us/sample - loss: 0.0833 - val_loss: 0.0850\n",
      "Epoch 51/100\n",
      "60000/60000 [==============================] - 6s 94us/sample - loss: 0.0832 - val_loss: 0.0850\n",
      "Epoch 52/100\n",
      "60000/60000 [==============================] - 6s 94us/sample - loss: 0.0831 - val_loss: 0.0846\n",
      "Epoch 53/100\n",
      "60000/60000 [==============================] - 6s 94us/sample - loss: 0.0828 - val_loss: 0.0843\n",
      "Epoch 54/100\n",
      "60000/60000 [==============================] - 6s 94us/sample - loss: 0.0827 - val_loss: 0.0844\n",
      "Epoch 55/100\n",
      "60000/60000 [==============================] - 6s 93us/sample - loss: 0.0825 - val_loss: 0.0842\n",
      "Epoch 56/100\n",
      "60000/60000 [==============================] - 6s 94us/sample - loss: 0.0823 - val_loss: 0.0840\n",
      "Epoch 57/100\n",
      "60000/60000 [==============================] - 6s 93us/sample - loss: 0.0821 - val_loss: 0.0845\n",
      "Epoch 58/100\n",
      "60000/60000 [==============================] - 7s 124us/sample - loss: 0.0820 - val_loss: 0.0839\n",
      "Epoch 59/100\n",
      "60000/60000 [==============================] - 6s 96us/sample - loss: 0.0819 - val_loss: 0.0839\n",
      "Epoch 60/100\n",
      "60000/60000 [==============================] - 6s 98us/sample - loss: 0.0818 - val_loss: 0.0834\n",
      "Epoch 61/100\n",
      "60000/60000 [==============================] - 6s 95us/sample - loss: 0.0817 - val_loss: 0.0841\n",
      "Epoch 62/100\n",
      "60000/60000 [==============================] - 6s 96us/sample - loss: 0.0816 - val_loss: 0.0835\n",
      "Epoch 63/100\n",
      "60000/60000 [==============================] - 6s 97us/sample - loss: 0.0814 - val_loss: 0.0830\n",
      "Epoch 64/100\n",
      "60000/60000 [==============================] - 6s 97us/sample - loss: 0.0814 - val_loss: 0.0830\n",
      "Epoch 65/100\n",
      "60000/60000 [==============================] - 6s 97us/sample - loss: 0.0813 - val_loss: 0.0834\n",
      "Epoch 66/100\n",
      "60000/60000 [==============================] - 6s 94us/sample - loss: 0.0811 - val_loss: 0.0833\n",
      "Epoch 67/100\n",
      "60000/60000 [==============================] - 6s 94us/sample - loss: 0.0811 - val_loss: 0.0830\n",
      "Epoch 68/100\n",
      "60000/60000 [==============================] - 6s 93us/sample - loss: 0.0810 - val_loss: 0.0830\n",
      "Epoch 69/100\n",
      "60000/60000 [==============================] - 6s 93us/sample - loss: 0.0808 - val_loss: 0.0830\n",
      "Epoch 70/100\n",
      "60000/60000 [==============================] - 6s 93us/sample - loss: 0.0809 - val_loss: 0.0827\n",
      "Epoch 71/100\n",
      "60000/60000 [==============================] - 6s 92us/sample - loss: 0.0807 - val_loss: 0.0835\n",
      "Epoch 72/100\n",
      "60000/60000 [==============================] - 6s 92us/sample - loss: 0.0807 - val_loss: 0.0833\n",
      "Epoch 73/100\n",
      "60000/60000 [==============================] - 6s 93us/sample - loss: 0.0806 - val_loss: 0.0822\n",
      "Epoch 74/100\n",
      "60000/60000 [==============================] - 6s 92us/sample - loss: 0.0805 - val_loss: 0.0825\n",
      "Epoch 75/100\n",
      "60000/60000 [==============================] - 6s 93us/sample - loss: 0.0804 - val_loss: 0.0821\n",
      "Epoch 76/100\n",
      "60000/60000 [==============================] - 6s 93us/sample - loss: 0.0803 - val_loss: 0.0822\n",
      "Epoch 77/100\n",
      "60000/60000 [==============================] - 6s 94us/sample - loss: 0.0803 - val_loss: 0.0822\n",
      "Epoch 78/100\n",
      "60000/60000 [==============================] - 6s 93us/sample - loss: 0.0802 - val_loss: 0.0830\n",
      "Epoch 79/100\n",
      "60000/60000 [==============================] - 6s 94us/sample - loss: 0.0801 - val_loss: 0.0821\n",
      "Epoch 80/100\n",
      "60000/60000 [==============================] - 6s 95us/sample - loss: 0.0801 - val_loss: 0.0825\n",
      "Epoch 81/100\n",
      "60000/60000 [==============================] - 6s 94us/sample - loss: 0.0800 - val_loss: 0.0826\n",
      "Epoch 82/100\n",
      "60000/60000 [==============================] - 6s 94us/sample - loss: 0.0799 - val_loss: 0.0821\n",
      "Epoch 83/100\n",
      "60000/60000 [==============================] - 6s 95us/sample - loss: 0.0800 - val_loss: 0.0821\n",
      "Epoch 84/100\n",
      "60000/60000 [==============================] - 6s 96us/sample - loss: 0.0798 - val_loss: 0.0822\n",
      "Epoch 85/100\n",
      "60000/60000 [==============================] - 6s 95us/sample - loss: 0.0797 - val_loss: 0.0820\n",
      "Epoch 86/100\n",
      "60000/60000 [==============================] - 6s 93us/sample - loss: 0.0797 - val_loss: 0.0816\n",
      "Epoch 87/100\n",
      "60000/60000 [==============================] - 6s 94us/sample - loss: 0.0797 - val_loss: 0.0831\n",
      "Epoch 88/100\n",
      "60000/60000 [==============================] - 6s 93us/sample - loss: 0.0796 - val_loss: 0.0815\n",
      "Epoch 89/100\n",
      "60000/60000 [==============================] - 7s 112us/sample - loss: 0.0794 - val_loss: 0.0820\n",
      "Epoch 90/100\n",
      "60000/60000 [==============================] - 6s 104us/sample - loss: 0.0794 - val_loss: 0.0815\n",
      "Epoch 91/100\n",
      "60000/60000 [==============================] - 6s 94us/sample - loss: 0.0794 - val_loss: 0.0814\n",
      "Epoch 92/100\n",
      "60000/60000 [==============================] - 6s 93us/sample - loss: 0.0793 - val_loss: 0.0815\n",
      "Epoch 93/100\n",
      "60000/60000 [==============================] - 6s 93us/sample - loss: 0.0792 - val_loss: 0.0818\n",
      "Epoch 94/100\n",
      "60000/60000 [==============================] - 6s 95us/sample - loss: 0.0792 - val_loss: 0.0810\n",
      "Epoch 95/100\n",
      "60000/60000 [==============================] - 6s 94us/sample - loss: 0.0791 - val_loss: 0.0814\n",
      "Epoch 96/100\n",
      "60000/60000 [==============================] - 6s 92us/sample - loss: 0.0792 - val_loss: 0.0813\n",
      "Epoch 97/100\n",
      "60000/60000 [==============================] - 6s 93us/sample - loss: 0.0789 - val_loss: 0.0813\n",
      "Epoch 98/100\n",
      "60000/60000 [==============================] - 6s 96us/sample - loss: 0.0790 - val_loss: 0.0813\n",
      "Epoch 99/100\n",
      "60000/60000 [==============================] - 6s 93us/sample - loss: 0.0790 - val_loss: 0.0814\n",
      "Epoch 100/100\n",
      "60000/60000 [==============================] - 6s 94us/sample - loss: 0.0789 - val_loss: 0.0812\n"
     ]
    },
    {
     "data": {
      "text/plain": [
       "<tensorflow.python.keras.callbacks.History at 0x7fe63ebd0978>"
      ]
     },
     "execution_count": 26,
     "metadata": {},
     "output_type": "execute_result"
    }
   ],
   "source": [
    "autoencoder_ver1.fit(x_train,x_train,\n",
    "                    validation_data=(x_test,x_test),\n",
    "                     batch_size=256,\n",
    "                    shuffle=True,\n",
    "                    epochs=100)"
   ]
  },
  {
   "cell_type": "code",
   "execution_count": 27,
   "metadata": {},
   "outputs": [],
   "source": [
    "decoded_imgs = autoencoder_ver1.predict(x_test[:10])"
   ]
  },
  {
   "cell_type": "code",
   "execution_count": 28,
   "metadata": {},
   "outputs": [
    {
     "data": {
      "image/png": "[encoded data removed]",
      "text/plain": [
       "<Figure size 1440x288 with 20 Axes>"
      ]
     },
     "metadata": {},
     "output_type": "display_data"
    }
   ],
   "source": [
    "# use Matplotlib (don't ask)\n",
    "import matplotlib.pyplot as plt\n",
    "\n",
    "n = 10  # how many digits we will display\n",
    "plt.figure(figsize=(20, 4))\n",
    "for i in range(n):\n",
    "    # display original\n",
    "    ax = plt.subplot(2, n, i + 1)\n",
    "    plt.imshow(x_test[i].reshape(28, 28))\n",
    "    plt.gray()\n",
    "    ax.get_xaxis().set_visible(False)\n",
    "    ax.get_yaxis().set_visible(False)\n",
    "\n",
    "    # display reconstruction\n",
    "    ax = plt.subplot(2, n, i + 1 + n)\n",
    "    plt.imshow(decoded_imgs[i].reshape(28, 28))\n",
    "    plt.gray()\n",
    "    ax.get_xaxis().set_visible(False)\n",
    "    ax.get_yaxis().set_visible(False)\n",
    "plt.show()"
   ]
  },
  {
   "cell_type": "markdown",
   "metadata": {
    "toc-hr-collapsed": true
   },
   "source": [
    "### Convolutional autoencoder\n",
    "\n",
    "> Since our inputs are images, it makes sense to use convolutional neural networks (convnets) as encoders and decoders. In practical settings, autoencoders applied to images are always convolutional autoencoders --they simply perform much better.\n",
    "\n",
    "> Let's implement one. The encoder will consist in a stack of Conv2D and MaxPooling2D layers (max pooling being used for spatial down-sampling), while the decoder will consist in a stack of Conv2D and UpSampling2D layers."
   ]
  },
  {
   "cell_type": "code",
   "execution_count": 29,
   "metadata": {},
   "outputs": [
    {
     "name": "stderr",
     "output_type": "stream",
     "text": [
      "Using TensorFlow backend.\n",
      "W1113 18:59:35.118207 140629537863488 deprecation_wrapper.py:119] From /home/ec2-user/anaconda3/envs/tensorflow_p36/lib/python3.6/site-packages/keras/backend/tensorflow_backend.py:74: The name tf.get_default_graph is deprecated. Please use tf.compat.v1.get_default_graph instead.\n",
      "\n",
      "W1113 18:59:35.119204 140629537863488 deprecation_wrapper.py:119] From /home/ec2-user/anaconda3/envs/tensorflow_p36/lib/python3.6/site-packages/keras/backend/tensorflow_backend.py:517: The name tf.placeholder is deprecated. Please use tf.compat.v1.placeholder instead.\n",
      "\n",
      "W1113 18:59:35.124683 140629537863488 deprecation_wrapper.py:119] From /home/ec2-user/anaconda3/envs/tensorflow_p36/lib/python3.6/site-packages/keras/backend/tensorflow_backend.py:4138: The name tf.random_uniform is deprecated. Please use tf.random.uniform instead.\n",
      "\n",
      "W1113 18:59:35.138749 140629537863488 deprecation_wrapper.py:119] From /home/ec2-user/anaconda3/envs/tensorflow_p36/lib/python3.6/site-packages/keras/backend/tensorflow_backend.py:3976: The name tf.nn.max_pool is deprecated. Please use tf.nn.max_pool2d instead.\n",
      "\n",
      "W1113 18:59:35.184521 140629537863488 deprecation_wrapper.py:119] From /home/ec2-user/anaconda3/envs/tensorflow_p36/lib/python3.6/site-packages/keras/backend/tensorflow_backend.py:2018: The name tf.image.resize_nearest_neighbor is deprecated. Please use tf.compat.v1.image.resize_nearest_neighbor instead.\n",
      "\n",
      "W1113 18:59:35.236902 140629537863488 deprecation_wrapper.py:119] From /home/ec2-user/anaconda3/envs/tensorflow_p36/lib/python3.6/site-packages/keras/optimizers.py:790: The name tf.train.Optimizer is deprecated. Please use tf.compat.v1.train.Optimizer instead.\n",
      "\n",
      "W1113 18:59:35.257163 140629537863488 deprecation_wrapper.py:119] From /home/ec2-user/anaconda3/envs/tensorflow_p36/lib/python3.6/site-packages/keras/backend/tensorflow_backend.py:3376: The name tf.log is deprecated. Please use tf.math.log instead.\n",
      "\n"
     ]
    }
   ],
   "source": [
    "from keras.layers import Input, Dense, Conv2D, MaxPooling2D, UpSampling2D\n",
    "from keras.models import Model\n",
    "from keras import backend as K\n",
    "\n",
    "# Create Model \n",
    "input_img = Input(shape=(28,28,1))\n",
    "\n",
    "x = Conv2D(16,(3,3), activation='relu', padding='same')(input_img)\n",
    "x = MaxPooling2D((2,2), padding='same')(x)\n",
    "x = Conv2D(8, (3, 3), activation='relu', padding='same')(x)\n",
    "x = MaxPooling2D((2, 2), padding='same')(x)\n",
    "x = Conv2D(4, (3, 3), activation='relu', padding='same')(x)\n",
    "encoded = MaxPooling2D((2, 2), padding='same')(x)\n",
    "\n",
    "# at this point the representation is (4, 4, 8) i.e. 128-dimensional representation\n",
    "\n",
    "x = Conv2D(4, (3, 3), activation='relu', padding='same')(encoded)\n",
    "x = UpSampling2D((2, 2))(x)\n",
    "x = Conv2D(8, (3, 3), activation='relu', padding='same')(x)\n",
    "x = UpSampling2D((2, 2))(x)\n",
    "x = Conv2D(16, (3, 3), activation='relu')(x)\n",
    "x = UpSampling2D((2, 2))(x)\n",
    "decoded = Conv2D(1, (3, 3), activation='sigmoid', padding='same')(x)\n",
    "\n",
    "autoencoder = Model(input_img, decoded)\n",
    "autoencoder.compile(optimizer='adam', loss='binary_crossentropy')"
   ]
  },
  {
   "cell_type": "code",
   "execution_count": null,
   "metadata": {},
   "outputs": [],
   "source": []
  },
  {
   "cell_type": "code",
   "execution_count": 30,
   "metadata": {},
   "outputs": [],
   "source": [
    "from keras.datasets import mnist\n",
    "import numpy as np\n",
    "\n",
    "(x_train, _), (x_test, _) = mnist.load_data()\n",
    "\n",
    "x_train = x_train.astype('float32') / 255.\n",
    "x_test = x_test.astype('float32') / 255.\n",
    "x_train = np.reshape(x_train, (len(x_train), 28, 28, 1))  # adapt this if using `channels_first` image data format\n",
    "x_test = np.reshape(x_test, (len(x_test), 28, 28, 1))  # adapt this if using `channels_first` image data format"
   ]
  },
  {
   "cell_type": "code",
   "execution_count": 32,
   "metadata": {},
   "outputs": [
    {
     "name": "stdout",
     "output_type": "stream",
     "text": [
      "Train on 60000 samples, validate on 10000 samples\n",
      "Epoch 1/100\n",
      "60000/60000 [==============================] - 32s 527us/step - loss: 0.1468 - val_loss: 0.1456\n",
      "Epoch 2/100\n",
      "60000/60000 [==============================] - 31s 525us/step - loss: 0.1463 - val_loss: 0.1450\n",
      "Epoch 3/100\n",
      "60000/60000 [==============================] - 33s 543us/step - loss: 0.1457 - val_loss: 0.1445\n",
      "Epoch 4/100\n",
      "60000/60000 [==============================] - 31s 524us/step - loss: 0.1452 - val_loss: 0.1439\n",
      "Epoch 5/100\n",
      "60000/60000 [==============================] - 32s 526us/step - loss: 0.1446 - val_loss: 0.1433\n",
      "Epoch 6/100\n",
      "60000/60000 [==============================] - 32s 526us/step - loss: 0.1440 - val_loss: 0.1427\n",
      "Epoch 7/100\n",
      "60000/60000 [==============================] - 32s 525us/step - loss: 0.1435 - val_loss: 0.1422\n",
      "Epoch 8/100\n",
      "60000/60000 [==============================] - 32s 540us/step - loss: 0.1429 - val_loss: 0.1419\n",
      "Epoch 9/100\n",
      "60000/60000 [==============================] - 31s 525us/step - loss: 0.1423 - val_loss: 0.1409\n",
      "Epoch 10/100\n",
      "60000/60000 [==============================] - 32s 530us/step - loss: 0.1417 - val_loss: 0.1404\n",
      "Epoch 11/100\n",
      "60000/60000 [==============================] - 32s 529us/step - loss: 0.1413 - val_loss: 0.1404\n",
      "Epoch 12/100\n",
      "60000/60000 [==============================] - 32s 527us/step - loss: 0.1407 - val_loss: 0.1394\n",
      "Epoch 13/100\n",
      "50000/60000 [========================>.....] - ETA: 5s - loss: 0.1403"
     ]
    },
    {
     "ename": "KeyboardInterrupt",
     "evalue": "",
     "output_type": "error",
     "traceback": [
      "\u001b[0;31m---------------------------------------------------------------------------\u001b[0m",
      "\u001b[0;31mKeyboardInterrupt\u001b[0m                         Traceback (most recent call last)",
      "\u001b[0;32m<ipython-input-32-ca54448e9354>\u001b[0m in \u001b[0;36m<module>\u001b[0;34m()\u001b[0m\n\u001b[1;32m      6\u001b[0m                 \u001b[0mshuffle\u001b[0m\u001b[0;34m=\u001b[0m\u001b[0;32mTrue\u001b[0m\u001b[0;34m,\u001b[0m\u001b[0;34m\u001b[0m\u001b[0m\n\u001b[1;32m      7\u001b[0m                 \u001b[0mvalidation_data\u001b[0m\u001b[0;34m=\u001b[0m\u001b[0;34m(\u001b[0m\u001b[0mx_test\u001b[0m\u001b[0;34m,\u001b[0m \u001b[0mx_test\u001b[0m\u001b[0;34m)\u001b[0m\u001b[0;34m,\u001b[0m\u001b[0;34m\u001b[0m\u001b[0m\n\u001b[0;32m----> 8\u001b[0;31m                 \u001b[0mverbose\u001b[0m\u001b[0;34m=\u001b[0m\u001b[0;36m1\u001b[0m\u001b[0;34m,\u001b[0m\u001b[0;34m\u001b[0m\u001b[0m\n\u001b[0m\u001b[1;32m      9\u001b[0m                 \u001b[0;31m#callbacks=[WandbCallback()]\u001b[0m\u001b[0;34m\u001b[0m\u001b[0;34m\u001b[0m\u001b[0m\n\u001b[1;32m     10\u001b[0m                )\n",
      "\u001b[0;32m~/anaconda3/envs/tensorflow_p36/lib/python3.6/site-packages/keras/engine/training.py\u001b[0m in \u001b[0;36mfit\u001b[0;34m(self, x, y, batch_size, epochs, verbose, callbacks, validation_split, validation_data, shuffle, class_weight, sample_weight, initial_epoch, steps_per_epoch, validation_steps, **kwargs)\u001b[0m\n\u001b[1;32m   1037\u001b[0m                                         \u001b[0minitial_epoch\u001b[0m\u001b[0;34m=\u001b[0m\u001b[0minitial_epoch\u001b[0m\u001b[0;34m,\u001b[0m\u001b[0;34m\u001b[0m\u001b[0m\n\u001b[1;32m   1038\u001b[0m                                         \u001b[0msteps_per_epoch\u001b[0m\u001b[0;34m=\u001b[0m\u001b[0msteps_per_epoch\u001b[0m\u001b[0;34m,\u001b[0m\u001b[0;34m\u001b[0m\u001b[0m\n\u001b[0;32m-> 1039\u001b[0;31m                                         validation_steps=validation_steps)\n\u001b[0m\u001b[1;32m   1040\u001b[0m \u001b[0;34m\u001b[0m\u001b[0m\n\u001b[1;32m   1041\u001b[0m     def evaluate(self, x=None, y=None,\n",
      "\u001b[0;32m~/anaconda3/envs/tensorflow_p36/lib/python3.6/site-packages/keras/engine/training_arrays.py\u001b[0m in \u001b[0;36mfit_loop\u001b[0;34m(model, f, ins, out_labels, batch_size, epochs, verbose, callbacks, val_f, val_ins, shuffle, callback_metrics, initial_epoch, steps_per_epoch, validation_steps)\u001b[0m\n\u001b[1;32m    197\u001b[0m                     \u001b[0mins_batch\u001b[0m\u001b[0;34m[\u001b[0m\u001b[0mi\u001b[0m\u001b[0;34m]\u001b[0m \u001b[0;34m=\u001b[0m \u001b[0mins_batch\u001b[0m\u001b[0;34m[\u001b[0m\u001b[0mi\u001b[0m\u001b[0;34m]\u001b[0m\u001b[0;34m.\u001b[0m\u001b[0mtoarray\u001b[0m\u001b[0;34m(\u001b[0m\u001b[0;34m)\u001b[0m\u001b[0;34m\u001b[0m\u001b[0m\n\u001b[1;32m    198\u001b[0m \u001b[0;34m\u001b[0m\u001b[0m\n\u001b[0;32m--> 199\u001b[0;31m                 \u001b[0mouts\u001b[0m \u001b[0;34m=\u001b[0m \u001b[0mf\u001b[0m\u001b[0;34m(\u001b[0m\u001b[0mins_batch\u001b[0m\u001b[0;34m)\u001b[0m\u001b[0;34m\u001b[0m\u001b[0m\n\u001b[0m\u001b[1;32m    200\u001b[0m                 \u001b[0mouts\u001b[0m \u001b[0;34m=\u001b[0m \u001b[0mto_list\u001b[0m\u001b[0;34m(\u001b[0m\u001b[0mouts\u001b[0m\u001b[0;34m)\u001b[0m\u001b[0;34m\u001b[0m\u001b[0m\n\u001b[1;32m    201\u001b[0m                 \u001b[0;32mfor\u001b[0m \u001b[0ml\u001b[0m\u001b[0;34m,\u001b[0m \u001b[0mo\u001b[0m \u001b[0;32min\u001b[0m \u001b[0mzip\u001b[0m\u001b[0;34m(\u001b[0m\u001b[0mout_labels\u001b[0m\u001b[0;34m,\u001b[0m \u001b[0mouts\u001b[0m\u001b[0;34m)\u001b[0m\u001b[0;34m:\u001b[0m\u001b[0;34m\u001b[0m\u001b[0m\n",
      "\u001b[0;32m~/anaconda3/envs/tensorflow_p36/lib/python3.6/site-packages/keras/backend/tensorflow_backend.py\u001b[0m in \u001b[0;36m__call__\u001b[0;34m(self, inputs)\u001b[0m\n\u001b[1;32m   2713\u001b[0m                 \u001b[0;32mreturn\u001b[0m \u001b[0mself\u001b[0m\u001b[0;34m.\u001b[0m\u001b[0m_legacy_call\u001b[0m\u001b[0;34m(\u001b[0m\u001b[0minputs\u001b[0m\u001b[0;34m)\u001b[0m\u001b[0;34m\u001b[0m\u001b[0m\n\u001b[1;32m   2714\u001b[0m \u001b[0;34m\u001b[0m\u001b[0m\n\u001b[0;32m-> 2715\u001b[0;31m             \u001b[0;32mreturn\u001b[0m \u001b[0mself\u001b[0m\u001b[0;34m.\u001b[0m\u001b[0m_call\u001b[0m\u001b[0;34m(\u001b[0m\u001b[0minputs\u001b[0m\u001b[0;34m)\u001b[0m\u001b[0;34m\u001b[0m\u001b[0m\n\u001b[0m\u001b[1;32m   2716\u001b[0m         \u001b[0;32melse\u001b[0m\u001b[0;34m:\u001b[0m\u001b[0;34m\u001b[0m\u001b[0m\n\u001b[1;32m   2717\u001b[0m             \u001b[0;32mif\u001b[0m \u001b[0mpy_any\u001b[0m\u001b[0;34m(\u001b[0m\u001b[0mis_tensor\u001b[0m\u001b[0;34m(\u001b[0m\u001b[0mx\u001b[0m\u001b[0;34m)\u001b[0m \u001b[0;32mfor\u001b[0m \u001b[0mx\u001b[0m \u001b[0;32min\u001b[0m \u001b[0minputs\u001b[0m\u001b[0;34m)\u001b[0m\u001b[0;34m:\u001b[0m\u001b[0;34m\u001b[0m\u001b[0m\n",
      "\u001b[0;32m~/anaconda3/envs/tensorflow_p36/lib/python3.6/site-packages/keras/backend/tensorflow_backend.py\u001b[0m in \u001b[0;36m_call\u001b[0;34m(self, inputs)\u001b[0m\n\u001b[1;32m   2673\u001b[0m             \u001b[0mfetched\u001b[0m \u001b[0;34m=\u001b[0m \u001b[0mself\u001b[0m\u001b[0;34m.\u001b[0m\u001b[0m_callable_fn\u001b[0m\u001b[0;34m(\u001b[0m\u001b[0;34m*\u001b[0m\u001b[0marray_vals\u001b[0m\u001b[0;34m,\u001b[0m \u001b[0mrun_metadata\u001b[0m\u001b[0;34m=\u001b[0m\u001b[0mself\u001b[0m\u001b[0;34m.\u001b[0m\u001b[0mrun_metadata\u001b[0m\u001b[0;34m)\u001b[0m\u001b[0;34m\u001b[0m\u001b[0m\n\u001b[1;32m   2674\u001b[0m         \u001b[0;32melse\u001b[0m\u001b[0;34m:\u001b[0m\u001b[0;34m\u001b[0m\u001b[0m\n\u001b[0;32m-> 2675\u001b[0;31m             \u001b[0mfetched\u001b[0m \u001b[0;34m=\u001b[0m \u001b[0mself\u001b[0m\u001b[0;34m.\u001b[0m\u001b[0m_callable_fn\u001b[0m\u001b[0;34m(\u001b[0m\u001b[0;34m*\u001b[0m\u001b[0marray_vals\u001b[0m\u001b[0;34m)\u001b[0m\u001b[0;34m\u001b[0m\u001b[0m\n\u001b[0m\u001b[1;32m   2676\u001b[0m         \u001b[0;32mreturn\u001b[0m \u001b[0mfetched\u001b[0m\u001b[0;34m[\u001b[0m\u001b[0;34m:\u001b[0m\u001b[0mlen\u001b[0m\u001b[0;34m(\u001b[0m\u001b[0mself\u001b[0m\u001b[0;34m.\u001b[0m\u001b[0moutputs\u001b[0m\u001b[0;34m)\u001b[0m\u001b[0;34m]\u001b[0m\u001b[0;34m\u001b[0m\u001b[0m\n\u001b[1;32m   2677\u001b[0m \u001b[0;34m\u001b[0m\u001b[0m\n",
      "\u001b[0;32m~/anaconda3/envs/tensorflow_p36/lib/python3.6/site-packages/tensorflow/python/client/session.py\u001b[0m in \u001b[0;36m__call__\u001b[0;34m(self, *args, **kwargs)\u001b[0m\n\u001b[1;32m   1456\u001b[0m         ret = tf_session.TF_SessionRunCallable(self._session._session,\n\u001b[1;32m   1457\u001b[0m                                                \u001b[0mself\u001b[0m\u001b[0;34m.\u001b[0m\u001b[0m_handle\u001b[0m\u001b[0;34m,\u001b[0m \u001b[0margs\u001b[0m\u001b[0;34m,\u001b[0m\u001b[0;34m\u001b[0m\u001b[0m\n\u001b[0;32m-> 1458\u001b[0;31m                                                run_metadata_ptr)\n\u001b[0m\u001b[1;32m   1459\u001b[0m         \u001b[0;32mif\u001b[0m \u001b[0mrun_metadata\u001b[0m\u001b[0;34m:\u001b[0m\u001b[0;34m\u001b[0m\u001b[0m\n\u001b[1;32m   1460\u001b[0m           \u001b[0mproto_data\u001b[0m \u001b[0;34m=\u001b[0m \u001b[0mtf_session\u001b[0m\u001b[0;34m.\u001b[0m\u001b[0mTF_GetBuffer\u001b[0m\u001b[0;34m(\u001b[0m\u001b[0mrun_metadata_ptr\u001b[0m\u001b[0;34m)\u001b[0m\u001b[0;34m\u001b[0m\u001b[0m\n",
      "\u001b[0;31mKeyboardInterrupt\u001b[0m: "
     ]
    }
   ],
   "source": [
    "#wandb.init(project=\"mnist_autoencoder\", entity=\"ds5\")\n",
    "\n",
    "autoencoder.fit(x_train, x_train,\n",
    "                epochs=100,\n",
    "                batch_size=2000,\n",
    "                shuffle=True,\n",
    "                validation_data=(x_test, x_test),\n",
    "                verbose=1,\n",
    "                #callbacks=[WandbCallback()]\n",
    "               )"
   ]
  },
  {
   "cell_type": "code",
   "execution_count": 34,
   "metadata": {},
   "outputs": [
    {
     "data": {
      "image/png": "[encoded data removed]",
      "text/plain": [
       "<Figure size 1440x288 with 20 Axes>"
      ]
     },
     "metadata": {},
     "output_type": "display_data"
    }
   ],
   "source": [
    "decoded_imgs = autoencoder.predict(x_test)\n",
    "\n",
    "# use Matplotlib (don't ask)\n",
    "import matplotlib.pyplot as plt\n",
    "\n",
    "n = 10  # how many digits we will display\n",
    "plt.figure(figsize=(20, 4))\n",
    "for i in range(n):\n",
    "    # display original\n",
    "    ax = plt.subplot(2, n, i + 1)\n",
    "    plt.imshow(x_test[i].reshape(28, 28))\n",
    "    plt.gray()\n",
    "    ax.get_xaxis().set_visible(False)\n",
    "    ax.get_yaxis().set_visible(False)\n",
    "\n",
    "    # display reconstruction\n",
    "    ax = plt.subplot(2, n, i + 1 + n)\n",
    "    plt.imshow(decoded_imgs[i].reshape(28, 28))\n",
    "    plt.gray()\n",
    "    ax.get_xaxis().set_visible(False)\n",
    "    ax.get_yaxis().set_visible(False)\n",
    "plt.show()"
   ]
  },
  {
   "cell_type": "markdown",
   "metadata": {},
   "source": [
    "#### Visualization of the Representations"
   ]
  },
  {
   "cell_type": "code",
   "execution_count": null,
   "metadata": {},
   "outputs": [],
   "source": [
    "encoder = Model(input_img, encoded)\n",
    "encoder.predict(x_train)\n",
    "\n",
    "n = 10\n",
    "plt.figure(figsize=(20, 8))\n",
    "for i in range(n):\n",
    "    ax = plt.subplot(1, n, i)\n",
    "    plt.imshow(encoded_imgs[i].reshape(4, 4 * 8).T)\n",
    "    plt.gray()\n",
    "    ax.get_xaxis().set_visible(False)\n",
    "    ax.get_yaxis().set_visible(False)\n",
    "plt.show()"
   ]
  },
  {
   "cell_type": "markdown",
   "metadata": {},
   "source": [
    "## Challenge\n",
    "\n",
    "You will train an autoencoder at some point in the near future. "
   ]
  },
  {
   "cell_type": "markdown",
   "metadata": {},
   "source": [
    "# Information Retrieval with Autoencoders (Learn)\n",
    "<a id=\"p3\"></a>"
   ]
  },
  {
   "cell_type": "markdown",
   "metadata": {},
   "source": [
    "## Overview\n",
    "\n",
    "A common usecase for autoencoders is for reverse image search. Let's try to draw an image and see what's most similiar in our dataset. \n",
    "\n",
    "To accomplish this we will need to slice our autoendoer in half to extract our reduced features. :) "
   ]
  },
  {
   "cell_type": "markdown",
   "metadata": {},
   "source": [
    "## Follow Along"
   ]
  },
  {
   "cell_type": "code",
   "execution_count": null,
   "metadata": {},
   "outputs": [],
   "source": [
    "encoder = Model(input_img, encoded)\n",
    "encoded_imgs = encoder.predict(x_train)"
   ]
  },
  {
   "cell_type": "code",
   "execution_count": null,
   "metadata": {},
   "outputs": [],
   "source": [
    "encoded_imgs[0].T"
   ]
  },
  {
   "cell_type": "code",
   "execution_count": null,
   "metadata": {},
   "outputs": [],
   "source": [
    "from sklearn.neighbors import NearestNeighbors\n",
    "\n",
    "nn = NearestNeighbors(n_neighbors=10, algorithm='ball_tree')\n",
    "nn.fit(encoded_imgs)"
   ]
  },
  {
   "cell_type": "code",
   "execution_count": null,
   "metadata": {},
   "outputs": [],
   "source": [
    "nn.kneighbors(...)"
   ]
  },
  {
   "cell_type": "markdown",
   "metadata": {},
   "source": [
    "## Challenge\n",
    "\n",
    "You should already be familiar with KNN and similarity queries, so the key component of this section is know what to 'slice' from your autoencoder (the encoder) to extract features from your data. "
   ]
  },
  {
   "cell_type": "markdown",
   "metadata": {},
   "source": [
    "# Review\n",
    "\n",
    "* <a href=\"#p1\">Part 1</a>: Describe the componenets of an autoencoder\n",
    "    - Enocder\n",
    "    - Decoder\n",
    "* <a href=\"#p2\">Part 2</a>: Train an autoencoder\n",
    "    - Can do in Keras Easily\n",
    "    - Can use a variety of architectures\n",
    "    - Architectures must follow hourglass shape\n",
    "* <a href=\"#p3\">Part 3</a>: Apply an autoenocder to a basic information retrieval problem\n",
    "    - Extract just the encoder to use for various tasks\n",
    "    - AE ares good for dimensionality reduction, reverse image search, and may more things. \n"
   ]
  },
  {
   "cell_type": "markdown",
   "metadata": {},
   "source": [
    "# Sources\n",
    "\n",
    "__References__\n",
    "- [Building Autoencoders in Keras](https://blog.keras.io/building-autoencoders-in-keras.html)\n",
    "- [Deep Learning Cookbook](http://shop.oreilly.com/product/0636920097471.do)\n",
    "\n",
    "__Additional Material__"
   ]
  }
 ],
 "metadata": {
  "kernelspec": {
   "display_name": "conda_tensorflow_p36",
   "language": "python",
   "name": "conda_tensorflow_p36"
  },
  "language_info": {
   "codemirror_mode": {
    "name": "ipython",
    "version": 3
   },
   "file_extension": ".py",
   "mimetype": "text/x-python",
   "name": "python",
   "nbconvert_exporter": "python",
   "pygments_lexer": "ipython3",
   "version": "3.6.5"
  }
 },
 "nbformat": 4,
 "nbformat_minor": 4
}
